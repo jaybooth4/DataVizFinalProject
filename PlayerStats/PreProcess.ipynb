{
 "cells": [
  {
   "cell_type": "code",
   "execution_count": 1,
   "metadata": {},
   "outputs": [],
   "source": [
    "# This file requires you already have 2 csvs in the directory\n",
    "\n",
    "# PlayerData.csv\n",
    "# NBAonlyNames.csv\n",
    "\n",
    "# This file relies on another process to bring these files in\n",
    "# The end goal of this file will be numeric data for further use.\n",
    "\n",
    "THRESHOLD = 0.7"
   ]
  },
  {
   "cell_type": "code",
   "execution_count": 2,
   "metadata": {},
   "outputs": [],
   "source": [
    "import pandas as pd\n",
    "import matplotlib.pyplot as plt\n",
    "import numpy as np\n",
    "#tell jupyter to render plots in notebook rather than new windows\n",
    "%matplotlib inline\n",
    "\n",
    "# if want to time something, do\n",
    "# %%time "
   ]
  },
  {
   "cell_type": "code",
   "execution_count": null,
   "metadata": {},
   "outputs": [],
   "source": []
  },
  {
   "cell_type": "code",
   "execution_count": 3,
   "metadata": {},
   "outputs": [],
   "source": [
    "players = pd.read_csv(\"PlayerData.csv\",encoding = \"ISO-8859-1\")\n",
    "players.drop_duplicates()\n",
    "#now remove any rows with N/A\n",
    "players=players.dropna(how=\"any\")\n",
    "#add full name column\n",
    "players['full_name'] = players['first_name'] + ' ' + players['last_name']"
   ]
  },
  {
   "cell_type": "code",
   "execution_count": 4,
   "metadata": {},
   "outputs": [
    {
     "name": "stdout",
     "output_type": "stream",
     "text": [
      "\n"
     ]
    }
   ],
   "source": [
    "#Load NBA names from CSV\n",
    "NBA = pd.read_csv(\"NBAonlyNames.csv\")\n",
    "NBA.drop_duplicates()\n",
    "print('')"
   ]
  },
  {
   "cell_type": "code",
   "execution_count": 5,
   "metadata": {},
   "outputs": [],
   "source": [
    "#Upper case all names\n",
    "players['full_name'] = players['full_name'].str.upper()\n",
    "NBA['NBA_Player'] = NBA['NBA_Player'].str.upper()"
   ]
  },
  {
   "cell_type": "code",
   "execution_count": 6,
   "metadata": {},
   "outputs": [],
   "source": [
    "# Create new column called NBA. fill row with 1 if name found in NBA, 0 otherwise\n",
    "players['NBA'] = np.where(players.full_name.isin(NBA.NBA_Player),1,0)"
   ]
  },
  {
   "cell_type": "code",
   "execution_count": 7,
   "metadata": {},
   "outputs": [],
   "source": [
    "#group like positions together\n",
    "players['position'] = np.where(players['position']== 'G', 'Guard', players['position'])\n",
    "players['position'] = np.where(players['position']== 'G-F', 'Guard', players['position'])\n",
    "\n",
    "players['position'] = np.where(players['position']== 'C', 'Center', players['position'])\n",
    "players['position'] = np.where(players['position']== 'C-F', 'Center', players['position'])\n",
    "players['position'] = np.where(players['position']== 'F-C', 'Center', players['position'])\n",
    "\n",
    "players['position'] = np.where(players['position']== 'F', 'Forward', players['position'])\n",
    "players['position'] = np.where(players['position']== 'F-G', 'Forward', players['position'])"
   ]
  },
  {
   "cell_type": "code",
   "execution_count": 8,
   "metadata": {},
   "outputs": [],
   "source": [
    "#Dummy Variables for Categorical Data\n",
    "cat_vars=['position']\n",
    "for var in cat_vars:\n",
    "    cat_list='var'+'_'+var\n",
    "    cat_list = pd.get_dummies(players[var], prefix=var)\n",
    "    data1=players.join(cat_list)\n",
    "    players=data1\n",
    "data_vars=players.columns.values.tolist()\n",
    "to_keep=[i for i in data_vars if i not in cat_vars]\n",
    "data_final=players[to_keep]\n",
    "#clear data1 from memory\n",
    "data1=None"
   ]
  },
  {
   "cell_type": "code",
   "execution_count": 9,
   "metadata": {},
   "outputs": [],
   "source": [
    "# extract only numeric columns plus position. Make algorithmic later? Keep in mind we can't have too many variables because we need enough data to support them\n",
    "players_numeric = players[['jersey_num','height','weight','avg_points','avg_mins','position', 'avg_fg_made','avg_fg_att','avg_fg_pct','avg_thrp_made','avg_thrp_att','avg_thrp_pct','avg_twop_made','avg_twop_pct','avg_blocked_att','avg_free_thr_made','avg_free_thr_att','avg_free_thr_pct','avg_off_rebnd','avg_def_rebnd','avg_rebnd','avg_assists','avg_turnovers','avg_steals','avg_blocks','avg_ATR','avg_personal_fouls','avg_tech_fouls','avg_flagrant_fouls','NBA']]\n",
    "\n",
    "#Dummy Variables for Categorical Data\n",
    "cat_vars=['position']\n",
    "for var in cat_vars:\n",
    "    cat_list='var'+'_'+var\n",
    "    cat_list = pd.get_dummies(players_numeric[var], prefix=var)\n",
    "    data1=players_numeric.join(cat_list)\n",
    "    players_numeric=data1\n",
    "cat_vars=['position']\n",
    "data_vars=players_numeric.columns.values.tolist()\n",
    "to_keep=[i for i in data_vars if i not in cat_vars]\n",
    "players_numeric = players_numeric[to_keep]\n",
    "\n",
    "#normailize data from 0-1\n",
    "players_numeric=(players_numeric-players_numeric.min())/(players_numeric.max()-players_numeric.min())"
   ]
  },
  {
   "cell_type": "code",
   "execution_count": 10,
   "metadata": {},
   "outputs": [],
   "source": [
    "#Now separate data into data where players made it to the NBA, and data where they did not\n",
    "# Capital X will be all data except whether or not they made the NBA\n",
    "# y is the labels for the X data\n",
    "X = players_numeric.loc[:, players_numeric.columns != 'NBA']\n",
    "\n",
    "y = players_numeric.loc[:, players_numeric.columns == 'NBA']\n",
    "# Our final return variables will be X and y"
   ]
  },
  {
   "cell_type": "code",
   "execution_count": 11,
   "metadata": {},
   "outputs": [],
   "source": [
    "#Now check for correlated features and remove them\n",
    "def removeCorrelation(dataset, threshold):\n",
    "    col_corr = set() # Set of all the names of deleted columns\n",
    "    corr_matrix = dataset.corr()\n",
    "    for i in range(len(corr_matrix.columns)):\n",
    "        for j in range(i):\n",
    "            if (corr_matrix.iloc[i, j] >= threshold) and (corr_matrix.columns[j] not in col_corr):\n",
    "                #print('Column ',corr_matrix.columns[i],' is being removed because this cell has a value of ',corr_matrix.iloc[i, j])\n",
    "                colname = corr_matrix.columns[i] # getting the name of column\n",
    "                col_corr.add(colname)\n",
    "                if colname in dataset.columns:\n",
    "                    del dataset[colname] # deleting the column from the dataset\n",
    "    return dataset"
   ]
  },
  {
   "cell_type": "code",
   "execution_count": 12,
   "metadata": {},
   "outputs": [],
   "source": [
    "X = removeCorrelation(X, THRESHOLD)\n",
    "#corr = PlayCopy.corr()\n",
    "#corr.style.background_gradient(cmap='coolwarm')"
   ]
  },
  {
   "cell_type": "code",
   "execution_count": null,
   "metadata": {},
   "outputs": [],
   "source": []
  },
  {
   "cell_type": "code",
   "execution_count": 13,
   "metadata": {},
   "outputs": [
    {
     "name": "stdout",
     "output_type": "stream",
     "text": [
      "Stored 'X' (DataFrame)\n",
      "Stored 'y' (DataFrame)\n"
     ]
    }
   ],
   "source": [
    "%store X\n",
    "%store y\n",
    "del X\n",
    "del y"
   ]
  },
  {
   "cell_type": "code",
   "execution_count": null,
   "metadata": {},
   "outputs": [],
   "source": []
  },
  {
   "cell_type": "code",
   "execution_count": null,
   "metadata": {},
   "outputs": [],
   "source": []
  },
  {
   "cell_type": "code",
   "execution_count": null,
   "metadata": {},
   "outputs": [],
   "source": []
  }
 ],
 "metadata": {
  "kernelspec": {
   "display_name": "Python 3",
   "language": "python",
   "name": "python3"
  },
  "language_info": {
   "codemirror_mode": {
    "name": "ipython",
    "version": 3
   },
   "file_extension": ".py",
   "mimetype": "text/x-python",
   "name": "python",
   "nbconvert_exporter": "python",
   "pygments_lexer": "ipython3",
   "version": "3.6.5"
  }
 },
 "nbformat": 4,
 "nbformat_minor": 2
}
